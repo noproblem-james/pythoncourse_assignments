{
 "cells": [
  {
   "cell_type": "code",
   "execution_count": 33,
   "metadata": {
    "collapsed": false
   },
   "outputs": [
    {
     "name": "stdout",
     "output_type": "stream",
     "text": [
      "Is your number prime?\n",
      "Please enter an integer: 13\n",
      "0 2 True\n",
      "1 3 True\n",
      "2 4 True\n",
      "3 5 True\n",
      "4 6 True\n",
      "5 7 True\n",
      "6 8 True\n",
      "7 9 True\n",
      "8 10 True\n",
      "9 11 True\n",
      "10 12 True\n",
      "Your number is prime.\n"
     ]
    }
   ],
   "source": [
    "print \"Is your number prime?\"\n",
    "n = int(raw_input('Please enter an integer: '))\n",
    "prime = True\n",
    "    \n",
    "for i in range (n):\n",
    "    print i, i + 2, prime\n",
    "    if i + 2 == (n - 1):\n",
    "        break\n",
    "    else:\n",
    "        if n % (i + 2) == 0:\n",
    "            prime = False\n",
    "            break\n",
    "\n",
    "\n",
    "if prime:\n",
    "    print \"Your number is prime.\"\n",
    "else:\n",
    "    print \"Your number is not prime.\""
   ]
  },
  {
   "cell_type": "code",
   "execution_count": 44,
   "metadata": {
    "collapsed": false
   },
   "outputs": [
    {
     "name": "stdout",
     "output_type": "stream",
     "text": [
      "Is your number prime?\n",
      "Please enter an integer: 9\n",
      "2 4 True\n",
      "3 5 True\n",
      "Your number is not prime.\n"
     ]
    }
   ],
   "source": [
    "print \"Is your number prime?\"\n",
    "n = int(raw_input('Please enter an integer: '))\n",
    "prime = True\n",
    "    \n",
    "for i in range (2, n):\n",
    "    print i, i + 2, prime\n",
    "    if n % i == 0:\n",
    "        prime = False\n",
    "        break\n",
    "\n",
    "\n",
    "if prime:\n",
    "    print \"Your number is prime.\"\n",
    "else:\n",
    "    print \"Your number is not prime.\""
   ]
  },
  {
   "cell_type": "code",
   "execution_count": null,
   "metadata": {
    "collapsed": true
   },
   "outputs": [],
   "source": []
  },
  {
   "cell_type": "code",
   "execution_count": null,
   "metadata": {
    "collapsed": true
   },
   "outputs": [],
   "source": []
  }
 ],
 "metadata": {
  "kernelspec": {
   "display_name": "Python [conda root]",
   "language": "python",
   "name": "conda-root-py"
  },
  "language_info": {
   "codemirror_mode": {
    "name": "ipython",
    "version": 2
   },
   "file_extension": ".py",
   "mimetype": "text/x-python",
   "name": "python",
   "nbconvert_exporter": "python",
   "pygments_lexer": "ipython2",
   "version": "2.7.12"
  }
 },
 "nbformat": 4,
 "nbformat_minor": 1
}
