{
 "cells": [
  {
   "cell_type": "code",
   "execution_count": null,
   "metadata": {
    "collapsed": false,
    "scrolled": false
   },
   "outputs": [],
   "source": [
    "print \"Find the least common multiple of two numbers!\"\n",
    "a = int(raw_input('Please enter an integer: '))\n",
    "b = int(raw_input('Please enter another integer: '))\n",
    "counter = 1\n",
    "lcm = counter\n",
    "multiple_a = a\n",
    "multiple_b = b\n",
    "while multiple_a != multiple_b:\n",
    "    multiple_a += a * counter\n",
    "    multiple_b += b * counter\n",
    "    counter += 1\n",
    "print \"The least common multiple of %i and %i is: %i.\" %(a, b, lcm)"
   ]
  },
  {
   "cell_type": "code",
   "execution_count": null,
   "metadata": {
    "collapsed": true
   },
   "outputs": [],
   "source": []
  }
 ],
 "metadata": {
  "anaconda-cloud": {},
  "kernelspec": {
   "display_name": "Python [conda root]",
   "language": "python",
   "name": "conda-root-py"
  },
  "language_info": {
   "codemirror_mode": {
    "name": "ipython",
    "version": 2
   },
   "file_extension": ".py",
   "mimetype": "text/x-python",
   "name": "python",
   "nbconvert_exporter": "python",
   "pygments_lexer": "ipython2",
   "version": "2.7.12"
  }
 },
 "nbformat": 4,
 "nbformat_minor": 1
}
