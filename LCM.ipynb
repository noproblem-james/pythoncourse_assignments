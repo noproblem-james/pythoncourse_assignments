{
 "cells": [
  {
   "cell_type": "code",
   "execution_count": 10,
   "metadata": {
    "collapsed": false,
    "scrolled": true
   },
   "outputs": [
    {
     "name": "stdout",
     "output_type": "stream",
     "text": [
      "Find the least common multiple of two numbers!\n",
      "Please enter an integer: 15\n",
      "Please enter another integer: 20\n",
      "The least common multiple of 15 and 20 is: 60.\n"
     ]
    }
   ],
   "source": [
    "print \"Find the least common multiple of two numbers!\"\n",
    "a = int(raw_input('Please enter an integer: '))\n",
    "b = int(raw_input('Please enter another integer: '))\n",
    "counter = 1\n",
    "gcd = counter\n",
    "divisor_a = a\n",
    "divisor_b = b\n",
    "while counter <= a and counter <= b:\n",
    "    if divisor_a % counter == 0 and divisor_b % counter == 0:\n",
    "        gcd = counter\n",
    "        counter += 1\n",
    "    else:\n",
    "        counter += 1\n",
    "lcm = (abs(a * b))/gcd\n",
    "print \"The least common multiple of %i and %i is: %i.\" %(a, b, lcm)"
   ]
  },
  {
   "cell_type": "code",
   "execution_count": null,
   "metadata": {
    "collapsed": true
   },
   "outputs": [],
   "source": []
  }
 ],
 "metadata": {
  "anaconda-cloud": {},
  "kernelspec": {
   "display_name": "Python [conda root]",
   "language": "python",
   "name": "conda-root-py"
  },
  "language_info": {
   "codemirror_mode": {
    "name": "ipython",
    "version": 2
   },
   "file_extension": ".py",
   "mimetype": "text/x-python",
   "name": "python",
   "nbconvert_exporter": "python",
   "pygments_lexer": "ipython2",
   "version": "2.7.12"
  }
 },
 "nbformat": 4,
 "nbformat_minor": 1
}
