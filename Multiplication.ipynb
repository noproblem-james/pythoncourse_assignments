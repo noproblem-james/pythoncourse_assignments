{
 "cells": [
  {
   "cell_type": "code",
   "execution_count": 2,
   "metadata": {
    "collapsed": false
   },
   "outputs": [
    {
     "name": "stdout",
     "output_type": "stream",
     "text": [
      "Please enter a number:3\n",
      "13\n"
     ]
    }
   ],
   "source": [
    "x = int(raw_input(\"Please enter a number: \"))\n",
    "x +=10\n",
    "print x"
   ]
  },
  {
   "cell_type": "code",
   "execution_count": 9,
   "metadata": {
    "collapsed": false
   },
   "outputs": [
    {
     "name": "stdout",
     "output_type": "stream",
     "text": [
      "Please enter factor 1:2\n",
      "Please enter factor 2:3\n",
      "6\n"
     ]
    }
   ],
   "source": [
    "a = int(raw_input(\"Please enter factor 1: \"))\n",
    "b = int(raw_input(\"Please enter factor 2: \"))\n",
    "product = 0\n",
    "i = 1\n",
    "while i < b +1:\n",
    "    product += a\n",
    "    i += 1\n",
    "    \n",
    "print product"
   ]
  }
 ],
 "metadata": {
  "anaconda-cloud": {},
  "kernelspec": {
   "display_name": "Python [conda root]",
   "language": "python",
   "name": "conda-root-py"
  },
  "language_info": {
   "codemirror_mode": {
    "name": "ipython",
    "version": 2
   },
   "file_extension": ".py",
   "mimetype": "text/x-python",
   "name": "python",
   "nbconvert_exporter": "python",
   "pygments_lexer": "ipython2",
   "version": "2.7.12"
  }
 },
 "nbformat": 4,
 "nbformat_minor": 1
}
