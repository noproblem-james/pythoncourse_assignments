{
 "cells": [
  {
   "cell_type": "code",
   "execution_count": 12,
   "metadata": {
    "collapsed": false
   },
   "outputs": [
    {
     "name": "stdout",
     "output_type": "stream",
     "text": [
      "Please enter the name of a State, and I will tell you the capital: colorado\n",
      "Denver\n"
     ]
    }
   ],
   "source": [
    "state_dictionary = {'Colorado': 'Denver', 'Alaska': 'Juneau', 'California': 'Sacramento',\n",
    "                    'Georgia': 'Atlanta', 'Kansas': 'Topeka', 'Nebraska': 'Lincoln',\n",
    "                      'Oregon': 'Salem', 'Texas': 'Austin', 'New York': 'Albany'}\n",
    "user_state = str(raw_input(\"Please enter the name of a State, and I will tell you the capital: \"))\n",
    "print state_dictionary.get (user_state.capitalize(), \"Capital unknown\")\n",
    "\n"
   ]
  },
  {
   "cell_type": "code",
   "execution_count": null,
   "metadata": {
    "collapsed": true
   },
   "outputs": [],
   "source": []
  }
 ],
 "metadata": {
  "kernelspec": {
   "display_name": "Python [conda root]",
   "language": "python",
   "name": "conda-root-py"
  },
  "language_info": {
   "codemirror_mode": {
    "name": "ipython",
    "version": 2
   },
   "file_extension": ".py",
   "mimetype": "text/x-python",
   "name": "python",
   "nbconvert_exporter": "python",
   "pygments_lexer": "ipython2",
   "version": "2.7.12"
  }
 },
 "nbformat": 4,
 "nbformat_minor": 1
}
