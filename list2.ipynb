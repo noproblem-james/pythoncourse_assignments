{
 "cells": [
  {
   "cell_type": "code",
   "execution_count": 4,
   "metadata": {
    "collapsed": false
   },
   "outputs": [
    {
     "name": "stdout",
     "output_type": "stream",
     "text": [
      "Enter a divisor: 3\n",
      "Enter a maximum number: 21\n",
      "[0, 3, 6, 9, 12, 15, 18, 21]\n"
     ]
    }
   ],
   "source": [
    "user_divisor = int(raw_input(\"Enter a divisor: \"))\n",
    "user_max = int(raw_input(\"Enter a maximum number: \"))\n",
    "empty_lst = []\n",
    "for idx in range(user_max + 1):\n",
    "    if idx % user_divisor == 0:\n",
    "        empty_lst.append(idx)\n",
    "print empty_lst"
   ]
  },
  {
   "cell_type": "code",
   "execution_count": null,
   "metadata": {
    "collapsed": true
   },
   "outputs": [],
   "source": []
  }
 ],
 "metadata": {
  "kernelspec": {
   "display_name": "Python [conda root]",
   "language": "python",
   "name": "conda-root-py"
  },
  "language_info": {
   "codemirror_mode": {
    "name": "ipython",
    "version": 2
   },
   "file_extension": ".py",
   "mimetype": "text/x-python",
   "name": "python",
   "nbconvert_exporter": "python",
   "pygments_lexer": "ipython2",
   "version": "2.7.12"
  }
 },
 "nbformat": 4,
 "nbformat_minor": 1
}
