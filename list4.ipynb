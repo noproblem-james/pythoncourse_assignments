{
 "cells": [
  {
   "cell_type": "code",
   "execution_count": 2,
   "metadata": {
    "collapsed": false
   },
   "outputs": [
    {
     "name": "stdout",
     "output_type": "stream",
     "text": [
      "Please enter a number for which to find multiples: 7\n",
      "Please enter a maximum number: 21\n",
      "[7, 14]\n"
     ]
    }
   ],
   "source": [
    "num1 = int(raw_input(\"Please enter a number for which to find multiples: \"))\n",
    "num2 = int(raw_input(\"Please enter a maximum number: \"))\n",
    "lst1 =[]\n",
    "\n",
    "for idx in range (1, num2 + 1):\n",
    "    num1_mult = idx * num1\n",
    "    lst1.append (num1_mult)\n",
    "    if num1_mult >= num2:\n",
    "        lst1.pop()\n",
    "        break\n",
    "        \n",
    "print lst1\n"
   ]
  },
  {
   "cell_type": "code",
   "execution_count": null,
   "metadata": {
    "collapsed": true
   },
   "outputs": [],
   "source": []
  }
 ],
 "metadata": {
  "anaconda-cloud": {},
  "kernelspec": {
   "display_name": "Python [conda root]",
   "language": "python",
   "name": "conda-root-py"
  },
  "language_info": {
   "codemirror_mode": {
    "name": "ipython",
    "version": 2
   },
   "file_extension": ".py",
   "mimetype": "text/x-python",
   "name": "python",
   "nbconvert_exporter": "python",
   "pygments_lexer": "ipython2",
   "version": "2.7.12"
  }
 },
 "nbformat": 4,
 "nbformat_minor": 1
}
