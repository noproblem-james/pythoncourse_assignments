{
 "cells": [
  {
   "cell_type": "code",
   "execution_count": 4,
   "metadata": {
    "collapsed": false
   },
   "outputs": [
    {
     "name": "stdout",
     "output_type": "stream",
     "text": [
      "Please enter a string: This is a string.\n",
      "ThIs iS A StRiNg.\n"
     ]
    }
   ],
   "source": [
    "user_string = str(raw_input(\"Please enter a string: \"))\n",
    "\n",
    "empty_lst = []\n",
    "\n",
    "for i in range(len(user_string)):\n",
    "    if i % 2 == 0:\n",
    "        empty_lst.append(user_string.upper()[i])\n",
    "    else:\n",
    "        empty_lst.append(user_string.lower()[i])\n",
    "        \n",
    "output_str = ''.join(empty_lst)\n",
    "\n",
    "print output_str\n"
   ]
  },
  {
   "cell_type": "code",
   "execution_count": 5,
   "metadata": {
    "collapsed": false
   },
   "outputs": [
    {
     "name": "stdout",
     "output_type": "stream",
     "text": [
      "Please enter a string: This is a string.\n",
      "TI SASRN.\n",
      "hsi  tig\n"
     ]
    }
   ],
   "source": [
    "user_string = str(raw_input(\"Please enter a string: \"))\n",
    "print user_string.upper()[::2]\n",
    "print user_string.lower()[1::2]"
   ]
  },
  {
   "cell_type": "code",
   "execution_count": null,
   "metadata": {
    "collapsed": true
   },
   "outputs": [],
   "source": []
  }
 ],
 "metadata": {
  "anaconda-cloud": {},
  "kernelspec": {
   "display_name": "Python [conda root]",
   "language": "python",
   "name": "conda-root-py"
  },
  "language_info": {
   "codemirror_mode": {
    "name": "ipython",
    "version": 2
   },
   "file_extension": ".py",
   "mimetype": "text/x-python",
   "name": "python",
   "nbconvert_exporter": "python",
   "pygments_lexer": "ipython2",
   "version": "2.7.12"
  }
 },
 "nbformat": 4,
 "nbformat_minor": 1
}
