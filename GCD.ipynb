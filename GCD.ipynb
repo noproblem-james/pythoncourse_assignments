{
 "cells": [
  {
   "cell_type": "code",
   "execution_count": 9,
   "metadata": {
    "collapsed": false
   },
   "outputs": [
    {
     "name": "stdout",
     "output_type": "stream",
     "text": [
      "Find the greatest common divisor of two numbers!\n",
      "Please enter an integer: -10\n",
      "Please enter another integer: 5\n",
      "The greatest common divisor of 10 and 5 is: 5.\n"
     ]
    }
   ],
   "source": [
    "print \"Find the greatest common divisor of two numbers!\"\n",
    "a = abs(int(raw_input('Please enter an integer: ')))\n",
    "b = abs(int(raw_input('Please enter another integer: ')))\n",
    "counter = 1\n",
    "gcd = counter\n",
    "divisor_a = a\n",
    "divisor_b = b\n",
    "while counter <= a and counter <= b:\n",
    "    if divisor_a % counter == 0 and divisor_b % counter == 0:\n",
    "        gcd = counter\n",
    "        counter += 1\n",
    "    else:\n",
    "        counter += 1\n",
    "print \"The greatest common divisor of %i and %i is: %i.\" %(a, b, gcd)"
   ]
  },
  {
   "cell_type": "code",
   "execution_count": null,
   "metadata": {
    "collapsed": true
   },
   "outputs": [],
   "source": []
  }
 ],
 "metadata": {
  "anaconda-cloud": {},
  "kernelspec": {
   "display_name": "Python [conda root]",
   "language": "python",
   "name": "conda-root-py"
  },
  "language_info": {
   "codemirror_mode": {
    "name": "ipython",
    "version": 2
   },
   "file_extension": ".py",
   "mimetype": "text/x-python",
   "name": "python",
   "nbconvert_exporter": "python",
   "pygments_lexer": "ipython2",
   "version": "2.7.12"
  }
 },
 "nbformat": 4,
 "nbformat_minor": 1
}
