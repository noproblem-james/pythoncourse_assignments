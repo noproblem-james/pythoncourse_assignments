{
 "cells": [
  {
   "cell_type": "code",
   "execution_count": 5,
   "metadata": {
    "collapsed": false,
    "scrolled": true
   },
   "outputs": [
    {
     "name": "stdout",
     "output_type": "stream",
     "text": [
      "Please enter a series of numbers separated by commas: 1,2,3,4,5,6\n",
      "['1', '3', '5'] ['2', '4', '6']\n",
      "[('1', '2'), ('3', '4'), ('5', '6')]\n"
     ]
    }
   ],
   "source": [
    "user_str = raw_input(\"Please enter a series of numbers separated by commas: \")\n",
    "user_str_no_spaces = user_str.replace(\" \",\"\")\n",
    "user_lst = user_str_no_spaces.split(\",\")\n",
    "lst_a, lst_b = user_lst[::2], user_lst[1::2]\n",
    "print lst_a, lst_b\n",
    "zipped = zip(lst_a, lst_b)\n",
    "print zipped\n",
    "\n"
   ]
  },
  {
   "cell_type": "code",
   "execution_count": null,
   "metadata": {
    "collapsed": true
   },
   "outputs": [],
   "source": []
  }
 ],
 "metadata": {
  "anaconda-cloud": {},
  "kernelspec": {
   "display_name": "Python [conda root]",
   "language": "python",
   "name": "conda-root-py"
  },
  "language_info": {
   "codemirror_mode": {
    "name": "ipython",
    "version": 2
   },
   "file_extension": ".py",
   "mimetype": "text/x-python",
   "name": "python",
   "nbconvert_exporter": "python",
   "pygments_lexer": "ipython2",
   "version": "2.7.12"
  }
 },
 "nbformat": 4,
 "nbformat_minor": 1
}
