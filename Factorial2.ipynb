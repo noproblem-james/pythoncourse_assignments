{
 "cells": [
  {
   "cell_type": "code",
   "execution_count": null,
   "metadata": {
    "collapsed": false
   },
   "outputs": [],
   "source": [
    "#counting down from n\n",
    "n = int(raw_input(\"Please enter number to be factorialed: \"))\n",
    "i = n - 1\n",
    "solution = n\n",
    "\n",
    "while i > 0:\n",
    "    solution *= i\n",
    "    i -= 1\n",
    "print solution"
   ]
  },
  {
   "cell_type": "code",
   "execution_count": null,
   "metadata": {
    "collapsed": false
   },
   "outputs": [],
   "source": [
    "5 * 4 * 3 * 2 * 1"
   ]
  },
  {
   "cell_type": "code",
   "execution_count": 37,
   "metadata": {
    "collapsed": false,
    "scrolled": true
   },
   "outputs": [
    {
     "name": "stdout",
     "output_type": "stream",
     "text": [
      "Please enter number to be factorialed: 15\n",
      "0 14 210\n",
      "1 13 2730\n",
      "2 12 32760\n",
      "3 11 360360\n",
      "4 10 3603600\n",
      "5 9 32432400\n",
      "6 8 259459200\n",
      "7 7 1816214400\n",
      "8 6 10897286400\n",
      "9 5 54486432000\n",
      "10 4 217945728000\n",
      "11 3 653837184000\n",
      "12 2 1307674368000\n",
      "13 1 1307674368000\n",
      "1307674368000\n"
     ]
    }
   ],
   "source": [
    "#counting down from n\n",
    "n = int(raw_input(\"Please enter number to be factorialed: \"))\n",
    "countdown = n\n",
    "solution = n\n",
    "\n",
    "for i in range(n):\n",
    "    countdown -= 1\n",
    "    solution *= countdown\n",
    "    print i, countdown, solution\n",
    "    if countdown == 1:\n",
    "        print solution\n",
    "        break"
   ]
  },
  {
   "cell_type": "code",
   "execution_count": null,
   "metadata": {
    "collapsed": true
   },
   "outputs": [],
   "source": []
  }
 ],
 "metadata": {
  "anaconda-cloud": {},
  "kernelspec": {
   "display_name": "Python [conda root]",
   "language": "python",
   "name": "conda-root-py"
  }
 },
 "nbformat": 4,
 "nbformat_minor": 1
}
