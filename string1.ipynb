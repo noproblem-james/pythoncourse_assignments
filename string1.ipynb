{
 "cells": [
  {
   "cell_type": "code",
   "execution_count": 8,
   "metadata": {
    "collapsed": false
   },
   "outputs": [
    {
     "name": "stdout",
     "output_type": "stream",
     "text": [
      "Please enter a string: This is my string.\n",
      "Please enter a letter to find within your string: t\n",
      "2\n"
     ]
    }
   ],
   "source": [
    "user_string = str(raw_input(\"Please enter a string: \"))\n",
    "user_letter = str(raw_input(\"Please enter a letter to find within your string: \"))\n",
    "\n",
    "upper_user_string = user_string.upper()\n",
    "upper_user_letter = user_letter.upper()\n",
    "\n",
    "print upper_user_string.count(upper_user_letter)\n",
    "    "
   ]
  },
  {
   "cell_type": "code",
   "execution_count": null,
   "metadata": {
    "collapsed": true
   },
   "outputs": [],
   "source": []
  }
 ],
 "metadata": {
  "anaconda-cloud": {},
  "kernelspec": {
   "display_name": "Python [conda root]",
   "language": "python",
   "name": "conda-root-py"
  },
  "language_info": {
   "codemirror_mode": {
    "name": "ipython",
    "version": 2
   },
   "file_extension": ".py",
   "mimetype": "text/x-python",
   "name": "python",
   "nbconvert_exporter": "python",
   "pygments_lexer": "ipython2",
   "version": "2.7.12"
  }
 },
 "nbformat": 4,
 "nbformat_minor": 1
}
