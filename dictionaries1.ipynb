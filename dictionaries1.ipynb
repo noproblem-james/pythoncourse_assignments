{
 "cells": [
  {
   "cell_type": "code",
   "execution_count": 4,
   "metadata": {
    "collapsed": false
   },
   "outputs": [
    {
     "name": "stdout",
     "output_type": "stream",
     "text": [
      "Please enter numbers separated by dashes: 1 - 5 - 8 - 10\n",
      "{8: 64, 1: 1, 10: 100, 5: 25}\n"
     ]
    }
   ],
   "source": [
    "user_str = raw_input(\"Please enter numbers separated by dashes: \")\n",
    "user_str_no_spaces = user_str.replace(\" \",\"\")\n",
    "new_dict = {}\n",
    "lst_bases = user_str_no_spaces.split(\"-\")\n",
    "for base in lst_bases:\n",
    "    new_dict[int(base)] = int(base)**2\n",
    "print new_dict\n",
    "\n",
    "\n",
    " "
   ]
  },
  {
   "cell_type": "code",
   "execution_count": null,
   "metadata": {
    "collapsed": true
   },
   "outputs": [],
   "source": []
  }
 ],
 "metadata": {
  "kernelspec": {
   "display_name": "Python [conda root]",
   "language": "python",
   "name": "conda-root-py"
  },
  "language_info": {
   "codemirror_mode": {
    "name": "ipython",
    "version": 2
   },
   "file_extension": ".py",
   "mimetype": "text/x-python",
   "name": "python",
   "nbconvert_exporter": "python",
   "pygments_lexer": "ipython2",
   "version": "2.7.12"
  }
 },
 "nbformat": 4,
 "nbformat_minor": 1
}
