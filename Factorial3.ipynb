{
 "cells": [
  {
   "cell_type": "code",
   "execution_count": 3,
   "metadata": {
    "collapsed": false
   },
   "outputs": [
    {
     "name": "stdout",
     "output_type": "stream",
     "text": [
      "Please enter number for which to take the factorial: 6\n",
      "720\n"
     ]
    }
   ],
   "source": [
    "#counting up from 1\n",
    "n = int(raw_input(\"Please enter number for which to take the factorial: \"))\n",
    "i = 1\n",
    "solution = n\n",
    "\n",
    "while i < n:\n",
    "    solution *= i\n",
    "    i += 1\n",
    "print solution"
   ]
  },
  {
   "cell_type": "code",
   "execution_count": 8,
   "metadata": {
    "collapsed": false
   },
   "outputs": [
    {
     "data": {
      "text/plain": [
       "120"
      ]
     },
     "execution_count": 8,
     "metadata": {},
     "output_type": "execute_result"
    }
   ],
   "source": [
    "5 * 4 * 3 * 2 * 1"
   ]
  },
  {
   "cell_type": "code",
   "execution_count": 25,
   "metadata": {
    "collapsed": false
   },
   "outputs": [
    {
     "name": "stdout",
     "output_type": "stream",
     "text": [
      "Please enter number for which to take the factorial: 5\n",
      "1 5\n",
      "2 10\n",
      "3 30\n",
      "4 120\n",
      "120\n"
     ]
    }
   ],
   "source": [
    "#counting up from 1\n",
    "n = int(raw_input(\"Please enter number for which to take the factorial: \"))\n",
    "solution = n\n",
    "\n",
    "for i in range (n):\n",
    "    i += 1\n",
    "    solution *= i\n",
    "    print i, solution\n",
    "    \n",
    "    if i == (n - 1):\n",
    "        print solution\n",
    "        break "
   ]
  },
  {
   "cell_type": "code",
   "execution_count": null,
   "metadata": {
    "collapsed": true
   },
   "outputs": [],
   "source": []
  }
 ],
 "metadata": {
  "anaconda-cloud": {},
  "kernelspec": {
   "display_name": "Python [conda root]",
   "language": "python",
   "name": "conda-root-py"
  },
  "language_info": {
   "codemirror_mode": {
    "name": "ipython",
    "version": 2
   },
   "file_extension": ".py",
   "mimetype": "text/x-python",
   "name": "python",
   "nbconvert_exporter": "python",
   "pygments_lexer": "ipython2",
   "version": "2.7.12"
  }
 },
 "nbformat": 4,
 "nbformat_minor": 1
}
